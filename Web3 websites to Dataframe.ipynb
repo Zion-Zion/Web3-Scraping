{
 "cells": [
  {
   "cell_type": "code",
   "execution_count": 1,
   "id": "d8ddc719",
   "metadata": {},
   "outputs": [],
   "source": [
    "# Importing libraries\n",
    "from bs4 import BeautifulSoup\n",
    "from selenium import webdriver\n",
    "from selenium.webdriver.chrome.options import Options\n",
    "import pandas as pd\n",
    "import time"
   ]
  },
  {
   "cell_type": "code",
   "execution_count": 2,
   "id": "e3e43661",
   "metadata": {},
   "outputs": [],
   "source": [
    "# Selenium options to run without opening a browser window\n",
    "chrome_options = Options()\n",
    "chrome_options.add_argument(\"--headless\")"
   ]
  },
  {
   "cell_type": "code",
   "execution_count": 5,
   "id": "df0c40c1",
   "metadata": {},
   "outputs": [
    {
     "name": "stderr",
     "output_type": "stream",
     "text": [
      "C:\\Users\\HOKAGE\\AppData\\Local\\Temp\\ipykernel_14064\\4125328145.py:48: FutureWarning: The frame.append method is deprecated and will be removed from pandas in a future version. Use pandas.concat instead.\n",
      "  df = df.append({'Pair Created': pair_created, 'Price (USD)': price_usd_value, 'Price (Coin)': price_value,\\\n",
      "C:\\Users\\HOKAGE\\AppData\\Local\\Temp\\ipykernel_14064\\4125328145.py:48: FutureWarning: The frame.append method is deprecated and will be removed from pandas in a future version. Use pandas.concat instead.\n",
      "  df = df.append({'Pair Created': pair_created, 'Price (USD)': price_usd_value, 'Price (Coin)': price_value,\\\n"
     ]
    }
   ],
   "source": [
    "#  Creating a dataframe for two Web3 projects\n",
    "\n",
    "url_list = ['https://dexscreener.com/ethereum/0xb4eea70239744abc626597c107ccb1c447195bc6',\n",
    "            'https://dexscreener.com/bsc/0xfc9ad7c306282e20da98d1011bd3dd7dc613c975']\n",
    "\n",
    "# Create an empty DataFrame to store the data\n",
    "columns = ['Pair Created', 'Price (USD)', 'Price (Coin)', 'Liquidity']\n",
    "df = pd.DataFrame(columns=columns)\n",
    "\n",
    "# Iterate through the list of URLs\n",
    "for url in url_list:\n",
    "   \n",
    "    # Set up the WebDriver\n",
    "    driver = webdriver.Chrome()\n",
    "    driver.get(url)\n",
    "\n",
    "    # Wait for the page to load\n",
    "    time.sleep(5)\n",
    "\n",
    "    page_source = driver.page_source\n",
    "\n",
    "\n",
    "    driver.quit()\n",
    "\n",
    "    soup = BeautifulSoup(page_source, 'html.parser')\n",
    "\n",
    "   # Extracting values from the first HTML code\n",
    "\n",
    "    price_usd_element = soup.find('span', text='Price USD')\n",
    "    price_element = soup.find('span', text='Price')\n",
    "    liquidity_element = soup.find('span', text='Liquidity')\n",
    "    fdv_element = soup.find('span', text='FDV')\n",
    "    market_cap_element = soup.find('span', text='Mkt Cap')\n",
    "\n",
    "    # Extract values from the found elements\n",
    "    price_usd_value = price_usd_element.find_next('div', class_='custom-1baulvz').text\n",
    "    price_value = price_element.find_next('span', class_='chakra-text custom-zvlevn').text\n",
    "    liquidity_value = liquidity_element.find_next('span', class_='chakra-text custom-0').text\n",
    "    fdv_value = fdv_element.find_next('span', class_='chakra-text custom-0').text\n",
    "    market_cap_value = market_cap_element.find_next('span', class_='chakra-text custom-0').text\n",
    "\n",
    "    # Extracting values from the second HTML code\n",
    "    pair_created = soup.find('span', {'class': 'chakra-text custom-2ygcmq'}).text\n",
    "    pooled_ratio = soup.find_all('span', {'class': 'custom-1rkiwvl'})[0].text.strip()\n",
    "    pooled_weth = soup.find_all('span', {'class': 'custom-1rkiwvl'})[1].text.strip()\n",
    "\n",
    "    # Append the data to the DataFrame\n",
    "    df = df.append({'Pair Created': pair_created, 'Price (USD)': price_usd_value, 'Price (Coin)': price_value,\\\n",
    "                    'Liquidity': liquidity_value}, ignore_index=True)\n"
   ]
  },
  {
   "cell_type": "code",
   "execution_count": 6,
   "id": "806ce0d0",
   "metadata": {},
   "outputs": [
    {
     "data": {
      "text/html": [
       "<div>\n",
       "<style scoped>\n",
       "    .dataframe tbody tr th:only-of-type {\n",
       "        vertical-align: middle;\n",
       "    }\n",
       "\n",
       "    .dataframe tbody tr th {\n",
       "        vertical-align: top;\n",
       "    }\n",
       "\n",
       "    .dataframe thead th {\n",
       "        text-align: right;\n",
       "    }\n",
       "</style>\n",
       "<table border=\"1\" class=\"dataframe\">\n",
       "  <thead>\n",
       "    <tr style=\"text-align: right;\">\n",
       "      <th></th>\n",
       "      <th>Pair Created</th>\n",
       "      <th>Price (USD)</th>\n",
       "      <th>Price (Coin)</th>\n",
       "      <th>Liquidity</th>\n",
       "    </tr>\n",
       "  </thead>\n",
       "  <tbody>\n",
       "    <tr>\n",
       "      <th>0</th>\n",
       "      <td>DEX</td>\n",
       "      <td>$0.0006137</td>\n",
       "      <td>0.063144 WETH</td>\n",
       "      <td>$81K</td>\n",
       "    </tr>\n",
       "    <tr>\n",
       "      <th>1</th>\n",
       "      <td>DEX</td>\n",
       "      <td>$0.006294</td>\n",
       "      <td>0.00002606 WBNB</td>\n",
       "      <td>$83K</td>\n",
       "    </tr>\n",
       "  </tbody>\n",
       "</table>\n",
       "</div>"
      ],
      "text/plain": [
       "  Pair Created Price (USD)     Price (Coin) Liquidity\n",
       "0          DEX  $0.0006137    0.063144 WETH      $81K\n",
       "1          DEX   $0.006294  0.00002606 WBNB      $83K"
      ]
     },
     "execution_count": 6,
     "metadata": {},
     "output_type": "execute_result"
    }
   ],
   "source": [
    "df"
   ]
  },
  {
   "cell_type": "code",
   "execution_count": null,
   "id": "aa498a78",
   "metadata": {},
   "outputs": [],
   "source": []
  }
 ],
 "metadata": {
  "kernelspec": {
   "display_name": "Python 3 (ipykernel)",
   "language": "python",
   "name": "python3"
  },
  "language_info": {
   "codemirror_mode": {
    "name": "ipython",
    "version": 3
   },
   "file_extension": ".py",
   "mimetype": "text/x-python",
   "name": "python",
   "nbconvert_exporter": "python",
   "pygments_lexer": "ipython3",
   "version": "3.10.9"
  }
 },
 "nbformat": 4,
 "nbformat_minor": 5
}
